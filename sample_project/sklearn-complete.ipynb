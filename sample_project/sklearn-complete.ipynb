{
 "cells": [
  {
   "cell_type": "code",
   "execution_count": 1,
   "id": "10938996",
   "metadata": {},
   "outputs": [
    {
     "data": {
      "text/plain": [
       "0.22188417408787875"
      ]
     },
     "execution_count": 1,
     "metadata": {},
     "output_type": "execute_result"
    }
   ],
   "source": [
    "import numpy as np\n",
    "import pandas as pd\n",
    "from sklearn.compose import ColumnTransformer\n",
    "from sklearn.ensemble import RandomForestRegressor\n",
    "from sklearn.impute import SimpleImputer\n",
    "from sklearn.model_selection import train_test_split\n",
    "from sklearn.pipeline import Pipeline\n",
    "from sklearn.preprocessing import OneHotEncoder\n",
    "\n",
    "# Import data from GitHub\n",
    "car_sales_missing = pd.read_csv(\"https://raw.githubusercontent.com/mrdbourke/zero-to-mastery-ml/master/data/car-sales-extended-missing-data.csv\")\n",
    "\n",
    "# Drop the rows with no labels\n",
    "car_sales_missing.dropna(subset=[\"Price\"], inplace=True)\n",
    "\n",
    "# Split data into X (data) & y (labels)\n",
    "X = car_sales_missing.drop(\"Price\", axis=1)\n",
    "y = car_sales_missing[\"Price\"]\n",
    "\n",
    "# Define categorical columns\n",
    "categorical_features = [\"Make\", \"Colour\"]\n",
    "# Create categorical transformer (imputes missing values, then one hot encodes them)\n",
    "categorical_transformer = Pipeline(steps=[\n",
    "  ('imputer', SimpleImputer(strategy='constant', fill_value='missing')),\n",
    "  ('onehot', OneHotEncoder(handle_unknown='ignore'))                                         \n",
    "])\n",
    "\n",
    "# Define door feature\n",
    "door_feature = [\"Doors\"]\n",
    "# Create door transformer (fills all door missing values with 4)\n",
    "door_transformer = Pipeline(steps=[\n",
    "  ('imputer', SimpleImputer(strategy='constant', fill_value=4)),\n",
    "])\n",
    "\n",
    "# Define numeric featrue\n",
    "numeric_features = [\"Odometer (KM)\"]\n",
    "# Create a transformer for filling all missing numeric values with the mean\n",
    "numeric_transformer = Pipeline(steps=[\n",
    "  ('imputer', SimpleImputer(strategy='mean'))  \n",
    "])\n",
    "\n",
    "# Create a column transformer which combines all of the other transformers \n",
    "# into one step\n",
    "preprocessor = ColumnTransformer(\n",
    "    transformers=[\n",
    "      ('categorical', categorical_transformer, categorical_features),\n",
    "      ('door', door_transformer, door_feature),\n",
    "      ('numerical', numeric_transformer, numeric_features)\n",
    "])\n",
    "\n",
    "# Create the model pipeline\n",
    "model = Pipeline(steps=[('preprocessor', preprocessor), # this will fill our missing data and make sure it's all numbers\n",
    "                        ('regressor', RandomForestRegressor())]) # this will model our data\n",
    "\n",
    "# Split data into train and teset sets\n",
    "np.random.seed(42)\n",
    "X_train, X_test, y_train, y_test = train_test_split(X, y, test_size=0.2)\n",
    "\n",
    "# Fit the model on the training data \n",
    "#(note: when fit() is called with a Pipeline(), fit_transform() is used for transformers)\n",
    "model.fit(X_train, y_train)\n",
    "\n",
    "# Score the model on the data \n",
    "# (note: when score() or  predict() is called with a Pipeline(), transform() is used for transformers)\n",
    "model.score(X_test, y_test)\n"
   ]
  },
  {
   "cell_type": "code",
   "execution_count": null,
   "id": "028df079",
   "metadata": {},
   "outputs": [],
   "source": []
  }
 ],
 "metadata": {
  "kernelspec": {
   "display_name": "Python 3 (ipykernel)",
   "language": "python",
   "name": "python3"
  },
  "language_info": {
   "codemirror_mode": {
    "name": "ipython",
    "version": 3
   },
   "file_extension": ".py",
   "mimetype": "text/x-python",
   "name": "python",
   "nbconvert_exporter": "python",
   "pygments_lexer": "ipython3",
   "version": "3.11.4"
  }
 },
 "nbformat": 4,
 "nbformat_minor": 5
}
